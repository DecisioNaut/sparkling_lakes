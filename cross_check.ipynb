{
 "cells": [
  {
   "cell_type": "code",
   "execution_count": 19,
   "metadata": {},
   "outputs": [],
   "source": [
    "import glob\n",
    "import json\n",
    "import os\n",
    "\n",
    "import pandas as pd"
   ]
  },
  {
   "cell_type": "code",
   "execution_count": null,
   "metadata": {},
   "outputs": [],
   "source": [
    "def get_df_from_json_folder(folder: str) -> pd.DataFrame:\n",
    "    \"\"\"Get dataframe from a folder containing json\"\"\"\n",
    "    # Create an empty list to hold the DataFrames\n",
    "    data = []\n",
    "\n",
    "    # Loop over all JSON files in the folder\n",
    "    for filename in glob.glob('../data/accelerometer/*.json'):\n",
    "        with open(filename, 'r') as f:\n",
    "            # Read the file and create a list of dictionaries from the weirdly formed JSON objects\n",
    "            combined_json_data = f.read().replace('}{', '}},{{').split('},{')\n",
    "            for json_data in combined_json_data:\n",
    "                try:\n",
    "                    dictionnairy = json.loads(json_data)\n",
    "                    data.append(dictionnairy)\n",
    "                except json.decoder.JSONDecodeError:\n",
    "                    print(filename)\n",
    "                    print(json_data)\n",
    "                    continue\n",
    "\n",
    "    # Create a DataFrame from the list of dictionaries\n",
    "    df = pd.DataFrame(data)\n",
    "        \n",
    "    return df\n"
   ]
  },
  {
   "cell_type": "code",
   "execution_count": null,
   "metadata": {},
   "outputs": [],
   "source": [
    "data = []"
   ]
  },
  {
   "cell_type": "code",
   "execution_count": 26,
   "metadata": {},
   "outputs": [
    {
     "name": "stdout",
     "output_type": "stream",
     "text": [
      "../data/accelerometer/accelerometer-1655471583651.json\n",
      "{\"user\":\"Danny.Phillips@test.com\",\"timeStamp\":1655472103\n"
     ]
    }
   ],
   "source": [
    "# Create an empty list to hold the DataFrames\n",
    "data = []\n",
    "\n",
    "# Loop over all JSON files in the folder\n",
    "for filename in glob.glob('../data/accelerometer/*.json'):\n",
    "    with open(filename, 'r') as f:\n",
    "        # Read the file and create a list of dictionaries from the weirdly formed JSON objects\n",
    "        combined_json_data = f.read().replace('}{', '}},{{').split('},{')\n",
    "        for json_data in combined_json_data:\n",
    "            try:\n",
    "                dictionnairy = json.loads(json_data)\n",
    "                data.append(dictionnairy)\n",
    "            except json.decoder.JSONDecodeError:\n",
    "                print(filename)\n",
    "                print(json_data)\n",
    "                continue\n",
    "\n",
    "#accelerometer_landing_df = pd.concat(dfs, ignore_index=True)\n",
    "#accelerometer_landing_df.head()"
   ]
  },
  {
   "cell_type": "code",
   "execution_count": 28,
   "metadata": {},
   "outputs": [
    {
     "data": {
      "text/html": [
       "<div>\n",
       "<style scoped>\n",
       "    .dataframe tbody tr th:only-of-type {\n",
       "        vertical-align: middle;\n",
       "    }\n",
       "\n",
       "    .dataframe tbody tr th {\n",
       "        vertical-align: top;\n",
       "    }\n",
       "\n",
       "    .dataframe thead th {\n",
       "        text-align: right;\n",
       "    }\n",
       "</style>\n",
       "<table border=\"1\" class=\"dataframe\">\n",
       "  <thead>\n",
       "    <tr style=\"text-align: right;\">\n",
       "      <th></th>\n",
       "      <th>user</th>\n",
       "      <th>timeStamp</th>\n",
       "      <th>x</th>\n",
       "      <th>y</th>\n",
       "      <th>z</th>\n",
       "    </tr>\n",
       "  </thead>\n",
       "  <tbody>\n",
       "    <tr>\n",
       "      <th>0</th>\n",
       "      <td>Sarah.Jefferson@test.com</td>\n",
       "      <td>1655564090238</td>\n",
       "      <td>1.0</td>\n",
       "      <td>-1.0</td>\n",
       "      <td>-1.0</td>\n",
       "    </tr>\n",
       "    <tr>\n",
       "      <th>1</th>\n",
       "      <td>Sarah.Jefferson@test.com</td>\n",
       "      <td>1655564090238</td>\n",
       "      <td>0.0</td>\n",
       "      <td>-1.0</td>\n",
       "      <td>0.0</td>\n",
       "    </tr>\n",
       "    <tr>\n",
       "      <th>2</th>\n",
       "      <td>Sarah.Jefferson@test.com</td>\n",
       "      <td>1655564090238</td>\n",
       "      <td>1.0</td>\n",
       "      <td>-1.0</td>\n",
       "      <td>0.0</td>\n",
       "    </tr>\n",
       "    <tr>\n",
       "      <th>3</th>\n",
       "      <td>Sarah.Jefferson@test.com</td>\n",
       "      <td>1655564092471</td>\n",
       "      <td>1.0</td>\n",
       "      <td>0.0</td>\n",
       "      <td>0.0</td>\n",
       "    </tr>\n",
       "    <tr>\n",
       "      <th>4</th>\n",
       "      <td>Sarah.Jefferson@test.com</td>\n",
       "      <td>1655564092471</td>\n",
       "      <td>0.0</td>\n",
       "      <td>1.0</td>\n",
       "      <td>0.0</td>\n",
       "    </tr>\n",
       "    <tr>\n",
       "      <th>...</th>\n",
       "      <td>...</td>\n",
       "      <td>...</td>\n",
       "      <td>...</td>\n",
       "      <td>...</td>\n",
       "      <td>...</td>\n",
       "    </tr>\n",
       "    <tr>\n",
       "      <th>744401</th>\n",
       "      <td>Travis.Clayton@test.com</td>\n",
       "      <td>1655562728089</td>\n",
       "      <td>0.0</td>\n",
       "      <td>1.0</td>\n",
       "      <td>0.0</td>\n",
       "    </tr>\n",
       "    <tr>\n",
       "      <th>744402</th>\n",
       "      <td>Travis.Clayton@test.com</td>\n",
       "      <td>1655562728089</td>\n",
       "      <td>1.0</td>\n",
       "      <td>1.0</td>\n",
       "      <td>-1.0</td>\n",
       "    </tr>\n",
       "    <tr>\n",
       "      <th>744403</th>\n",
       "      <td>Travis.Clayton@test.com</td>\n",
       "      <td>1655562730989</td>\n",
       "      <td>1.0</td>\n",
       "      <td>-1.0</td>\n",
       "      <td>0.0</td>\n",
       "    </tr>\n",
       "    <tr>\n",
       "      <th>744404</th>\n",
       "      <td>Travis.Clayton@test.com</td>\n",
       "      <td>1655562730989</td>\n",
       "      <td>-1.0</td>\n",
       "      <td>1.0</td>\n",
       "      <td>-1.0</td>\n",
       "    </tr>\n",
       "    <tr>\n",
       "      <th>744405</th>\n",
       "      <td>Travis.Clayton@test.com</td>\n",
       "      <td>1655562730989</td>\n",
       "      <td>-1.0</td>\n",
       "      <td>1.0</td>\n",
       "      <td>-1.0</td>\n",
       "    </tr>\n",
       "  </tbody>\n",
       "</table>\n",
       "<p>744406 rows × 5 columns</p>\n",
       "</div>"
      ],
      "text/plain": [
       "                            user      timeStamp    x    y    z\n",
       "0       Sarah.Jefferson@test.com  1655564090238  1.0 -1.0 -1.0\n",
       "1       Sarah.Jefferson@test.com  1655564090238  0.0 -1.0  0.0\n",
       "2       Sarah.Jefferson@test.com  1655564090238  1.0 -1.0  0.0\n",
       "3       Sarah.Jefferson@test.com  1655564092471  1.0  0.0  0.0\n",
       "4       Sarah.Jefferson@test.com  1655564092471  0.0  1.0  0.0\n",
       "...                          ...            ...  ...  ...  ...\n",
       "744401   Travis.Clayton@test.com  1655562728089  0.0  1.0  0.0\n",
       "744402   Travis.Clayton@test.com  1655562728089  1.0  1.0 -1.0\n",
       "744403   Travis.Clayton@test.com  1655562730989  1.0 -1.0  0.0\n",
       "744404   Travis.Clayton@test.com  1655562730989 -1.0  1.0 -1.0\n",
       "744405   Travis.Clayton@test.com  1655562730989 -1.0  1.0 -1.0\n",
       "\n",
       "[744406 rows x 5 columns]"
      ]
     },
     "execution_count": 28,
     "metadata": {},
     "output_type": "execute_result"
    }
   ],
   "source": [
    "pd.DataFrame(data)"
   ]
  },
  {
   "cell_type": "code",
   "execution_count": 24,
   "metadata": {},
   "outputs": [
    {
     "data": {
      "text/html": [
       "<div>\n",
       "<style scoped>\n",
       "    .dataframe tbody tr th:only-of-type {\n",
       "        vertical-align: middle;\n",
       "    }\n",
       "\n",
       "    .dataframe tbody tr th {\n",
       "        vertical-align: top;\n",
       "    }\n",
       "\n",
       "    .dataframe thead th {\n",
       "        text-align: right;\n",
       "    }\n",
       "</style>\n",
       "<table border=\"1\" class=\"dataframe\">\n",
       "  <thead>\n",
       "    <tr style=\"text-align: right;\">\n",
       "      <th></th>\n",
       "      <th>user</th>\n",
       "      <th>timeStamp</th>\n",
       "      <th>x</th>\n",
       "      <th>y</th>\n",
       "      <th>z</th>\n",
       "    </tr>\n",
       "  </thead>\n",
       "  <tbody>\n",
       "    <tr>\n",
       "      <th>0</th>\n",
       "      <td>Travis.Clayton@test.com</td>\n",
       "      <td>1655562730989</td>\n",
       "      <td>-1.0</td>\n",
       "      <td>1.0</td>\n",
       "      <td>-1.0</td>\n",
       "    </tr>\n",
       "  </tbody>\n",
       "</table>\n",
       "</div>"
      ],
      "text/plain": [
       "                      user      timeStamp    x    y    z\n",
       "0  Travis.Clayton@test.com  1655562730989 -1.0  1.0 -1.0"
      ]
     },
     "execution_count": 24,
     "metadata": {},
     "output_type": "execute_result"
    }
   ],
   "source": [
    "data\n",
    "pd.DataFrame(data, index=[0])"
   ]
  },
  {
   "cell_type": "code",
   "execution_count": 18,
   "metadata": {},
   "outputs": [
    {
     "ename": "ValueError",
     "evalue": "Shape of passed values is (5, 1), indices imply (5, 5)",
     "output_type": "error",
     "traceback": [
      "\u001b[0;31m---------------------------------------------------------------------------\u001b[0m",
      "\u001b[0;31mValueError\u001b[0m                                Traceback (most recent call last)",
      "Cell \u001b[0;32mIn[18], line 1\u001b[0m\n\u001b[0;32m----> 1\u001b[0m pd\u001b[39m.\u001b[39;49mDataFrame(data\u001b[39m.\u001b[39;49mvalues(), columns\u001b[39m=\u001b[39;49m[\u001b[39m\"\u001b[39;49m\u001b[39muser\u001b[39;49m\u001b[39m\"\u001b[39;49m, \u001b[39m\"\u001b[39;49m\u001b[39mtimeStamp\u001b[39;49m\u001b[39m\"\u001b[39;49m, \u001b[39m\"\u001b[39;49m\u001b[39mx\u001b[39;49m\u001b[39m\"\u001b[39;49m, \u001b[39m\"\u001b[39;49m\u001b[39my\u001b[39;49m\u001b[39m\"\u001b[39;49m, \u001b[39m\"\u001b[39;49m\u001b[39mz\u001b[39;49m\u001b[39m\"\u001b[39;49m])\n",
      "File \u001b[0;32m~/Library/Caches/pypoetry/virtualenvs/sparkling-lakes-zWZMef1X-py3.8/lib/python3.8/site-packages/pandas/core/frame.py:762\u001b[0m, in \u001b[0;36mDataFrame.__init__\u001b[0;34m(self, data, index, columns, dtype, copy)\u001b[0m\n\u001b[1;32m    754\u001b[0m         mgr \u001b[39m=\u001b[39m arrays_to_mgr(\n\u001b[1;32m    755\u001b[0m             arrays,\n\u001b[1;32m    756\u001b[0m             columns,\n\u001b[0;32m   (...)\u001b[0m\n\u001b[1;32m    759\u001b[0m             typ\u001b[39m=\u001b[39mmanager,\n\u001b[1;32m    760\u001b[0m         )\n\u001b[1;32m    761\u001b[0m     \u001b[39melse\u001b[39;00m:\n\u001b[0;32m--> 762\u001b[0m         mgr \u001b[39m=\u001b[39m ndarray_to_mgr(\n\u001b[1;32m    763\u001b[0m             data,\n\u001b[1;32m    764\u001b[0m             index,\n\u001b[1;32m    765\u001b[0m             columns,\n\u001b[1;32m    766\u001b[0m             dtype\u001b[39m=\u001b[39;49mdtype,\n\u001b[1;32m    767\u001b[0m             copy\u001b[39m=\u001b[39;49mcopy,\n\u001b[1;32m    768\u001b[0m             typ\u001b[39m=\u001b[39;49mmanager,\n\u001b[1;32m    769\u001b[0m         )\n\u001b[1;32m    770\u001b[0m \u001b[39melse\u001b[39;00m:\n\u001b[1;32m    771\u001b[0m     mgr \u001b[39m=\u001b[39m dict_to_mgr(\n\u001b[1;32m    772\u001b[0m         {},\n\u001b[1;32m    773\u001b[0m         index,\n\u001b[0;32m   (...)\u001b[0m\n\u001b[1;32m    776\u001b[0m         typ\u001b[39m=\u001b[39mmanager,\n\u001b[1;32m    777\u001b[0m     )\n",
      "File \u001b[0;32m~/Library/Caches/pypoetry/virtualenvs/sparkling-lakes-zWZMef1X-py3.8/lib/python3.8/site-packages/pandas/core/internals/construction.py:349\u001b[0m, in \u001b[0;36mndarray_to_mgr\u001b[0;34m(values, index, columns, dtype, copy, typ)\u001b[0m\n\u001b[1;32m    344\u001b[0m \u001b[39m# _prep_ndarraylike ensures that values.ndim == 2 at this point\u001b[39;00m\n\u001b[1;32m    345\u001b[0m index, columns \u001b[39m=\u001b[39m _get_axes(\n\u001b[1;32m    346\u001b[0m     values\u001b[39m.\u001b[39mshape[\u001b[39m0\u001b[39m], values\u001b[39m.\u001b[39mshape[\u001b[39m1\u001b[39m], index\u001b[39m=\u001b[39mindex, columns\u001b[39m=\u001b[39mcolumns\n\u001b[1;32m    347\u001b[0m )\n\u001b[0;32m--> 349\u001b[0m _check_values_indices_shape_match(values, index, columns)\n\u001b[1;32m    351\u001b[0m \u001b[39mif\u001b[39;00m typ \u001b[39m==\u001b[39m \u001b[39m\"\u001b[39m\u001b[39marray\u001b[39m\u001b[39m\"\u001b[39m:\n\u001b[1;32m    353\u001b[0m     \u001b[39mif\u001b[39;00m \u001b[39missubclass\u001b[39m(values\u001b[39m.\u001b[39mdtype\u001b[39m.\u001b[39mtype, \u001b[39mstr\u001b[39m):\n",
      "File \u001b[0;32m~/Library/Caches/pypoetry/virtualenvs/sparkling-lakes-zWZMef1X-py3.8/lib/python3.8/site-packages/pandas/core/internals/construction.py:420\u001b[0m, in \u001b[0;36m_check_values_indices_shape_match\u001b[0;34m(values, index, columns)\u001b[0m\n\u001b[1;32m    418\u001b[0m passed \u001b[39m=\u001b[39m values\u001b[39m.\u001b[39mshape\n\u001b[1;32m    419\u001b[0m implied \u001b[39m=\u001b[39m (\u001b[39mlen\u001b[39m(index), \u001b[39mlen\u001b[39m(columns))\n\u001b[0;32m--> 420\u001b[0m \u001b[39mraise\u001b[39;00m \u001b[39mValueError\u001b[39;00m(\u001b[39mf\u001b[39m\u001b[39m\"\u001b[39m\u001b[39mShape of passed values is \u001b[39m\u001b[39m{\u001b[39;00mpassed\u001b[39m}\u001b[39;00m\u001b[39m, indices imply \u001b[39m\u001b[39m{\u001b[39;00mimplied\u001b[39m}\u001b[39;00m\u001b[39m\"\u001b[39m)\n",
      "\u001b[0;31mValueError\u001b[0m: Shape of passed values is (5, 1), indices imply (5, 5)"
     ]
    }
   ],
   "source": [
    "pd.DataFrame(data.values(), columns=[\"user\", \"timeStamp\", \"x\", \"y\", \"z\"])"
   ]
  },
  {
   "cell_type": "code",
   "execution_count": 11,
   "metadata": {},
   "outputs": [
    {
     "name": "stdout",
     "output_type": "stream",
     "text": [
      "../data/customers/customers-1655471583651.json\n",
      "{\"customerName\":\"Trevor Jefferson\",\"email\":\n",
      "../data/customers/customers-1655293823654.json\n",
      "{\"custo\n",
      "../data/customers/customers-1655296388814.json\n",
      "{\"customerName\":\"Danny Gonzalez\",\"email\":\"Danny.Gonzalez@test.com\",\"phone\":\"8015551212\",\"birthDay\":\"1795-01-01\",\"serialNumber\":\"2e34a651-5e26-4280-b30b-9f2066496a89\",\"registrationDate\":1655296159855,\"lastUpdateDate\":1655296388831,\"shareWithResearchAsOfDate\":1655296388831,\"shareWithPubl\n",
      "../data/customers/customers-1655295864820.json\n",
      "{\"customerName\":\"Bobby Clark\",\"email\":\"Bobby.Clark@test.com\",\"phone\":\"8015551212\",\"birthDay\":\"1879-01-01\",\"serialNumber\":\"54b577cf-bb80-4019-9e1c-5f9c53c4745f\",\"registrationDate\":1655293791716,\"lastUpdateDate\":1655296040782,\"shareWithRese\n",
      "../data/customers/customers-1655342868087.json\n",
      "\n",
      "../data/customers/customers-1655296579520.json\n",
      "\n"
     ]
    },
    {
     "data": {
      "text/html": [
       "<div>\n",
       "<style scoped>\n",
       "    .dataframe tbody tr th:only-of-type {\n",
       "        vertical-align: middle;\n",
       "    }\n",
       "\n",
       "    .dataframe tbody tr th {\n",
       "        vertical-align: top;\n",
       "    }\n",
       "\n",
       "    .dataframe thead th {\n",
       "        text-align: right;\n",
       "    }\n",
       "</style>\n",
       "<table border=\"1\" class=\"dataframe\">\n",
       "  <thead>\n",
       "    <tr style=\"text-align: right;\">\n",
       "      <th></th>\n",
       "    </tr>\n",
       "  </thead>\n",
       "  <tbody>\n",
       "  </tbody>\n",
       "</table>\n",
       "</div>"
      ],
      "text/plain": [
       "Empty DataFrame\n",
       "Columns: []\n",
       "Index: []"
      ]
     },
     "execution_count": 11,
     "metadata": {},
     "output_type": "execute_result"
    }
   ],
   "source": [
    "# Create an empty list to hold the DataFrames\n",
    "df = pd.DataFrame()\n",
    "\n",
    "# Loop over all JSON files in the folder\n",
    "for filename in glob.glob('../data/customers/*.json'):\n",
    "    with open(filename, 'r') as f:\n",
    "        # Read the file and create a list of dictionaries from the JSON objects\n",
    "        combined_json_data = f.read().replace('}{', '}},{{').split('},{')\n",
    "        # combined_json_data = f'[{json_data}]'\n",
    "        for json_data in combined_json_data:\n",
    "            try:\n",
    "                data = json.loads(json_data)\n",
    "            except json.decoder.JSONDecodeError:\n",
    "                print(filename)\n",
    "                print(json_data)\n",
    "                continue\n",
    "df"
   ]
  },
  {
   "cell_type": "code",
   "execution_count": 6,
   "metadata": {},
   "outputs": [
    {
     "data": {
      "text/html": [
       "<div>\n",
       "<style scoped>\n",
       "    .dataframe tbody tr th:only-of-type {\n",
       "        vertical-align: middle;\n",
       "    }\n",
       "\n",
       "    .dataframe tbody tr th {\n",
       "        vertical-align: top;\n",
       "    }\n",
       "\n",
       "    .dataframe thead th {\n",
       "        text-align: right;\n",
       "    }\n",
       "</style>\n",
       "<table border=\"1\" class=\"dataframe\">\n",
       "  <thead>\n",
       "    <tr style=\"text-align: right;\">\n",
       "      <th></th>\n",
       "    </tr>\n",
       "  </thead>\n",
       "  <tbody>\n",
       "  </tbody>\n",
       "</table>\n",
       "</div>"
      ],
      "text/plain": [
       "Empty DataFrame\n",
       "Columns: []\n",
       "Index: []"
      ]
     },
     "execution_count": 6,
     "metadata": {},
     "output_type": "execute_result"
    }
   ],
   "source": [
    "df.head()"
   ]
  },
  {
   "cell_type": "code",
   "execution_count": null,
   "metadata": {},
   "outputs": [],
   "source": []
  }
 ],
 "metadata": {
  "kernelspec": {
   "display_name": "sparkling-lakes-zWZMef1X-py3.8",
   "language": "python",
   "name": "python3"
  },
  "language_info": {
   "codemirror_mode": {
    "name": "ipython",
    "version": 3
   },
   "file_extension": ".py",
   "mimetype": "text/x-python",
   "name": "python",
   "nbconvert_exporter": "python",
   "pygments_lexer": "ipython3",
   "version": "3.8.16"
  },
  "orig_nbformat": 4
 },
 "nbformat": 4,
 "nbformat_minor": 2
}
