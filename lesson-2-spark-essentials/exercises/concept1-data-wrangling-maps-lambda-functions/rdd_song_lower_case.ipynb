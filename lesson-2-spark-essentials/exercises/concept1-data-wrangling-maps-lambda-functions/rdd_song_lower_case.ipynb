{
 "cells": [
  {
   "cell_type": "code",
   "execution_count": 1,
   "metadata": {},
   "outputs": [],
   "source": [
    "import findspark\n",
    "from pyspark.sql import SparkSession"
   ]
  },
  {
   "cell_type": "code",
   "execution_count": 2,
   "metadata": {},
   "outputs": [],
   "source": [
    "# findspark.init(\"/usr/local/Cellar/apache-spark/3.3.2/libexec\")"
   ]
  },
  {
   "cell_type": "code",
   "execution_count": 3,
   "metadata": {},
   "outputs": [
    {
     "name": "stderr",
     "output_type": "stream",
     "text": [
      "Setting default log level to \"WARN\".\n",
      "To adjust logging level use sc.setLogLevel(newLevel). For SparkR, use setLogLevel(newLevel).\n"
     ]
    }
   ],
   "source": [
    "spark = (\n",
    "    SparkSession.builder.appName(\"Maps and Lazy Evaluation Example\")\n",
    "    .config(\"spark.eventLog.gcMetrics.youngGenerationGarbageCollectors\", \"G1 Young Generation\")\n",
    "    .config(\"spark.eventLog.gcMetrics.oldGenerationGarbageCollectors\", \"G1 Old Generation, G1 Concurrent GC\")\n",
    "    .getOrCreate()\n",
    ")"
   ]
  },
  {
   "cell_type": "code",
   "execution_count": 4,
   "metadata": {},
   "outputs": [],
   "source": [
    "log_of_songs = [\n",
    "    \"Despacito\",\n",
    "    \"Nice for what\",\n",
    "    \"No tears left to cry\",\n",
    "    \"Despacito\",\n",
    "    \"Havana\",\n",
    "    \"In my feelings\",\n",
    "    \"Nice for what\",\n",
    "    \"despacito\",\n",
    "    \"All the stars\",\n",
    "]"
   ]
  },
  {
   "cell_type": "code",
   "execution_count": 5,
   "metadata": {},
   "outputs": [],
   "source": [
    "distributed_song_log_rdd = spark.sparkContext.parallelize(log_of_songs)"
   ]
  },
  {
   "cell_type": "code",
   "execution_count": 6,
   "metadata": {},
   "outputs": [
    {
     "name": "stderr",
     "output_type": "stream",
     "text": [
      "Nice for what                                                       (0 + 8) / 8]\n",
      "Despacito\n",
      "In my feelings\n",
      "No tears left to cry\n",
      "Havana\n",
      "Nice for what\n",
      "despacito\n",
      "All the stars\n",
      "Despacito\n",
      "                                                                                \r"
     ]
    }
   ],
   "source": [
    "distributed_song_log_rdd.foreach(print)"
   ]
  },
  {
   "cell_type": "code",
   "execution_count": 7,
   "metadata": {},
   "outputs": [
    {
     "name": "stderr",
     "output_type": "stream",
     "text": [
      "havana\n",
      "nice for what\n",
      "despacito\n",
      "in my feelings\n",
      "despacito\n",
      "all the stars\n",
      "no tears left to cry\n",
      "despacito\n",
      "nice for what\n"
     ]
    }
   ],
   "source": [
    "distributed_song_log_rdd.map(lambda song: song.lower()).foreach(print)"
   ]
  }
 ],
 "metadata": {
  "kernelspec": {
   "display_name": "sparkling-lakes-zWZMef1X-py3.11",
   "language": "python",
   "name": "python3"
  },
  "language_info": {
   "codemirror_mode": {
    "name": "ipython",
    "version": 3
   },
   "file_extension": ".py",
   "mimetype": "text/x-python",
   "name": "python",
   "nbconvert_exporter": "python",
   "pygments_lexer": "ipython3",
   "version": "3.8.16"
  },
  "orig_nbformat": 4
 },
 "nbformat": 4,
 "nbformat_minor": 2
}
